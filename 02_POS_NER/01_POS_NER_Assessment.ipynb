{
 "cells": [
  {
   "cell_type": "markdown",
   "metadata": {
    "collapsed": true
   },
   "source": [
    "___\n",
    "\n",
    "<a href='http://www.pieriandata.com'> <img src='../Pierian_Data_Logo.png' /></a>\n",
    "___"
   ]
  },
  {
   "cell_type": "markdown",
   "metadata": {},
   "source": [
    "# Parts of Speech Assessment"
   ]
  },
  {
   "cell_type": "markdown",
   "metadata": {},
   "source": [
    "For this assessment we'll be using the short story [The Tale of Peter Rabbit](https://en.wikipedia.org/wiki/The_Tale_of_Peter_Rabbit) by Beatrix Potter (1902). <br>The story is in the public domain; the text file was obtained from [Project Gutenberg](https://www.gutenberg.org/ebooks/14838.txt.utf-8)."
   ]
  },
  {
   "cell_type": "code",
   "execution_count": 2,
   "metadata": {},
   "outputs": [],
   "source": [
    "# RUN THIS CELL to perform standard imports:\n",
    "import spacy\n",
    "nlp = spacy.load('en_core_web_sm')\n",
    "from spacy import displacy"
   ]
  },
  {
   "cell_type": "markdown",
   "metadata": {},
   "source": [
    "**1. Create a Doc object from the file `peterrabbit.txt`**<br>\n",
    "> HINT: Use `with open('../TextFiles/peterrabbit.txt') as f:`"
   ]
  },
  {
   "cell_type": "code",
   "execution_count": 3,
   "metadata": {},
   "outputs": [],
   "source": [
    "with open('peterrabbit.txt') as f:\n",
    "    lines = f.readlines()"
   ]
  },
  {
   "cell_type": "code",
   "execution_count": 4,
   "metadata": {},
   "outputs": [],
   "source": [
    "whole_text = ''\n",
    "for line in lines:\n",
    "    whole_text += line"
   ]
  },
  {
   "cell_type": "code",
   "execution_count": 5,
   "metadata": {},
   "outputs": [
    {
     "name": "stdout",
     "output_type": "stream",
     "text": [
      "The Tale of Peter Rabbit, by Beatrix Potter (1902).\n",
      "\n",
      "Once upon a time there were four little Rabbits, and their names\n",
      "were--\n",
      "\n",
      "          Flopsy,\n",
      "       Mopsy,\n",
      "   Cotton-tail,\n",
      "and Peter.\n",
      "\n",
      "They lived with their Mother in a sand-bank, underneath the root of a\n",
      "very big fir-tree.\n",
      "\n",
      "'Now my dears,' said old Mrs. Rabbit one morning, 'you may go into\n",
      "the fields or down the lane, but don't go into Mr. McGregor's garden:\n",
      "your Father had an accident there; he was put in a pie by Mrs.\n",
      "McGregor.'\n",
      "\n",
      "'Now run along, and don't get into mischief. I am going out.'\n",
      "\n",
      "Then old Mrs. Rabbit took a basket and her umbrella, and went through\n",
      "the wood to the baker's. She bought a loaf of brown bread and five\n",
      "currant buns.\n",
      "\n",
      "Flopsy, Mopsy, and Cottontail, who were good little bunnies, went\n",
      "down the lane to gather blackberries:\n",
      "\n",
      "But Peter, who was very naughty, ran straight away to Mr. McGregor's\n",
      "garden, and squeezed under the gate!\n",
      "\n",
      "First he ate some lettuces and some French beans; and then he ate\n",
      "some radishes;\n",
      "\n",
      "And then, feeling rather sick, he went to look for some parsley.\n",
      "\n",
      "But round the end of a cucumber frame, whom should he meet but Mr.\n",
      "McGregor!\n",
      "\n",
      "Mr. McGregor was on his hands and knees planting out young cabbages,\n",
      "but he jumped up and ran after Peter, waving a rake and calling out,\n",
      "'Stop thief!'\n",
      "\n",
      "Peter was most dreadfully frightened; he rushed all over the garden,\n",
      "for he had forgotten the way back to the gate.\n",
      "\n",
      "He lost one of his shoes among the cabbages, and the other shoe\n",
      "amongst the potatoes.\n",
      "\n",
      "After losing them, he ran on four legs and went faster, so that I\n",
      "think he might have got away altogether if he had not unfortunately\n",
      "run into a gooseberry net, and got caught by the large buttons on his\n",
      "jacket. It was a blue jacket with brass buttons, quite new.\n",
      "\n",
      "Peter gave himself up for lost, and shed big tears; but his sobs were\n",
      "overheard by some friendly sparrows, who flew to him in great\n",
      "excitement, and implored him to exert himself.\n",
      "\n",
      "Mr. McGregor came up with a sieve, which he intended to pop upon the\n",
      "top of Peter; but Peter wriggled out just in time, leaving his jacket\n",
      "behind him.\n",
      "\n",
      "And rushed into the tool-shed, and jumped into a can. It would have\n",
      "been a beautiful thing to hide in, if it had not had so much water in it.\n",
      "\n",
      "Mr. McGregor was quite sure that Peter was somewhere in the\n",
      "tool-shed, perhaps hidden underneath a flower-pot. He began to turn\n",
      "them over carefully, looking under each.\n",
      "\n",
      "Presently Peter sneezed--'Kertyschoo!' Mr. McGregor was after him in\n",
      "no time.\n",
      "\n",
      "And tried to put his foot upon Peter, who jumped out of a window,\n",
      "upsetting three plants. The window was too small for Mr. McGregor, and\n",
      "he was tired of running after Peter. He went back to his work.\n",
      "\n",
      "Peter sat down to rest; he was out of breath and trembling with\n",
      "fright, and he had not the least idea which way to go. Also he was\n",
      "very damp with sitting in that can.\n",
      "\n",
      "After a time he began to wander about, going lippity--lippity--not\n",
      "very fast, and looking all round.\n",
      "\n",
      "He found a door in a wall; but it was locked, and there was no room\n",
      "for a fat little rabbit to squeeze underneath.\n",
      "\n",
      "An old mouse was running in and out over the stone doorstep, carrying\n",
      "peas and beans to her family in the wood. Peter asked her the way to\n",
      "the gate, but she had such a large pea in her mouth that she could not\n",
      "answer. She only shook her head at him. Peter began to cry.\n",
      "\n",
      "Then he tried to find his way straight across the garden, but he\n",
      "became more and more puzzled. Presently, he came to a pond where Mr.\n",
      "McGregor filled his water-cans. A white cat was staring at some\n",
      "gold-fish, she sat very, very still, but now and then the tip of her\n",
      "tail twitched as if it were alive. Peter thought it best to go away\n",
      "without speaking to her; he had heard about cats from his cousin,\n",
      "little Benjamin Bunny.\n",
      "\n",
      "He went back towards the tool-shed, but suddenly, quite close to him,\n",
      "he heard the noise of a hoe--scr-r-ritch, scratch, scratch, scritch.\n",
      "Peter scuttered underneath the bushes. But presently, as nothing\n",
      "happened, he came out, and climbed upon a wheelbarrow and peeped over.\n",
      "The first thing he saw was Mr. McGregor hoeing onions. His back was\n",
      "turned towards Peter, and beyond him was the gate!\n",
      "\n",
      "Peter got down very quietly off the wheelbarrow; and started running\n",
      "as fast as he could go, along a straight walk behind some\n",
      "black-currant bushes.\n",
      "\n",
      "Mr. McGregor caught sight of him at the corner, but Peter did not\n",
      "care. He slipped underneath the gate, and was safe at last in the wood\n",
      "outside the garden.\n",
      "\n",
      "Mr. McGregor hung up the little jacket and the shoes for a scare-crow\n",
      "to frighten the blackbirds.\n",
      "\n",
      "Peter never stopped running or looked behind him till he got home to\n",
      "the big fir-tree.\n",
      "\n",
      "He was so tired that he flopped down upon the nice soft sand on the\n",
      "floor of the rabbit-hole and shut his eyes. His mother was busy\n",
      "cooking; she wondered what he had done with his clothes. It was the\n",
      "second little jacket and pair of shoes that Peter had lost in a\n",
      "fortnight!\n",
      "\n",
      "I am sorry to say that Peter was not very well during the evening.\n",
      "\n",
      "His mother put him to bed, and made some camomile tea; and she gave a\n",
      "dose of it to Peter!\n",
      "\n",
      "'One table-spoonful to be taken at bed-time.'\n",
      "\n",
      "But Flopsy, Mopsy, and Cotton-tail had bread and milk and\n",
      "blackberries for supper.\n",
      "\n",
      "THE END\n",
      "\n"
     ]
    }
   ],
   "source": [
    "print(whole_text)"
   ]
  },
  {
   "cell_type": "markdown",
   "metadata": {},
   "source": [
    "**2. For every token in the third sentence, print the token text, the POS tag, the fine-grained TAG tag, and the description of the fine-grained tag.**"
   ]
  },
  {
   "cell_type": "code",
   "execution_count": 6,
   "metadata": {},
   "outputs": [],
   "source": [
    "doc = nlp(whole_text)\n",
    "sentences = [sent for sent in doc.sents]"
   ]
  },
  {
   "cell_type": "code",
   "execution_count": 7,
   "metadata": {},
   "outputs": [
    {
     "name": "stdout",
     "output_type": "stream",
     "text": [
      "They            PRON  nsubj        pronoun, personal\n",
      "lived           VERB  ROOT         verb, past tense\n",
      "with            ADP   prep         conjunction, subordinating or preposition\n",
      "their           DET   poss         pronoun, possessive\n",
      "Mother          PROPN pobj         noun, proper singular\n",
      "in              ADP   prep         conjunction, subordinating or preposition\n",
      "a               DET   det          determiner\n",
      "sand            NOUN  compound     noun, singular or mass\n",
      "-               PUNCT punct        punctuation mark, hyphen\n",
      "bank            NOUN  pobj         noun, singular or mass\n",
      ",               PUNCT punct        punctuation mark, comma\n",
      "underneath      ADP   prep         conjunction, subordinating or preposition\n",
      "the             DET   det          determiner\n",
      "root            NOUN  pobj         noun, singular or mass\n",
      "of              ADP   prep         conjunction, subordinating or preposition\n",
      "a               DET   det          determiner\n",
      "\n",
      "               SPACE              None\n",
      "very            ADV   advmod       adverb\n",
      "big             ADJ   amod         adjective\n",
      "fir             NOUN  compound     noun, singular or mass\n",
      "-               PUNCT punct        punctuation mark, hyphen\n",
      "tree            NOUN  pobj         noun, singular or mass\n",
      ".               PUNCT punct        punctuation mark, sentence closer\n",
      "\n",
      "\n",
      "              SPACE              None\n"
     ]
    }
   ],
   "source": [
    "# Enter your code here:\n",
    "for token in sentences[2]:\n",
    "    print(f'{token.text:{15}} {token.pos_:{5}} {token.dep_:{12}} {spacy.explain(token.tag_)}')\n"
   ]
  },
  {
   "cell_type": "markdown",
   "metadata": {},
   "source": [
    "**3. Provide a frequency list of POS tags from the entire document**"
   ]
  },
  {
   "cell_type": "code",
   "execution_count": 14,
   "metadata": {},
   "outputs": [
    {
     "name": "stdout",
     "output_type": "stream",
     "text": [
      "84, ADJ  : 49\n",
      "85, ADP  : 122\n",
      "86, ADV  : 67\n",
      "87, AUX  : 48\n",
      "89, CCONJ: 61\n",
      "90, DET  : 117\n",
      "92, NOUN : 169\n",
      "93, NUM  : 8\n",
      "94, PART : 28\n",
      "95, PRON : 82\n",
      "96, PROPN: 75\n",
      "97, PUNCT: 174\n",
      "98, SCONJ: 20\n",
      "100, VERB : 139\n",
      "103, SPACE: 99\n"
     ]
    }
   ],
   "source": [
    "POS_counts = doc.count_by(spacy.attrs.POS)\n",
    "for k,v in sorted(POS_counts.items()):\n",
    "    print(f'{k}, {doc.vocab[k].text:{5}}: {v}')\n"
   ]
  },
  {
   "cell_type": "markdown",
   "metadata": {},
   "source": [
    "**4. CHALLENGE: What percentage of tokens are nouns?**<br>\n",
    "HINT: the attribute ID for 'NOUN' is 92"
   ]
  },
  {
   "cell_type": "code",
   "execution_count": 19,
   "metadata": {},
   "outputs": [
    {
     "data": {
      "text/plain": [
       "0.1216702663786897"
      ]
     },
     "execution_count": 19,
     "metadata": {},
     "output_type": "execute_result"
    }
   ],
   "source": [
    "num=0\n",
    "den = 0\n",
    "for k,v in sorted(POS_counts.items()):\n",
    "    if int(k) == 92:\n",
    "        num = int(v)\n",
    "    den += int(k)\n",
    "\n",
    "num/den"
   ]
  },
  {
   "cell_type": "markdown",
   "metadata": {},
   "source": [
    "**5. Display the Dependency Parse for the third sentence**"
   ]
  },
  {
   "cell_type": "code",
   "execution_count": 21,
   "metadata": {},
   "outputs": [
    {
     "data": {
      "text/html": [
       "<span class=\"tex2jax_ignore\"><svg xmlns=\"http://www.w3.org/2000/svg\" xmlns:xlink=\"http://www.w3.org/1999/xlink\" xml:lang=\"en\" id=\"a42813957b784fd2a31425d67dd7e980-0\" class=\"displacy\" width=\"1050\" height=\"312.0\" direction=\"ltr\" style=\"max-width: none; height: 312.0px; color: #000000; background: #ffffff; font-family: Arial; direction: ltr\">\n",
       "<text class=\"displacy-token\" fill=\"currentColor\" text-anchor=\"middle\" y=\"222.0\">\n",
       "    <tspan class=\"displacy-word\" fill=\"currentColor\" x=\"50\">They</tspan>\n",
       "    <tspan class=\"displacy-tag\" dy=\"2em\" fill=\"currentColor\" x=\"50\">PRON</tspan>\n",
       "</text>\n",
       "\n",
       "<text class=\"displacy-token\" fill=\"currentColor\" text-anchor=\"middle\" y=\"222.0\">\n",
       "    <tspan class=\"displacy-word\" fill=\"currentColor\" x=\"100\">lived</tspan>\n",
       "    <tspan class=\"displacy-tag\" dy=\"2em\" fill=\"currentColor\" x=\"100\">VERB</tspan>\n",
       "</text>\n",
       "\n",
       "<text class=\"displacy-token\" fill=\"currentColor\" text-anchor=\"middle\" y=\"222.0\">\n",
       "    <tspan class=\"displacy-word\" fill=\"currentColor\" x=\"150\">with</tspan>\n",
       "    <tspan class=\"displacy-tag\" dy=\"2em\" fill=\"currentColor\" x=\"150\">ADP</tspan>\n",
       "</text>\n",
       "\n",
       "<text class=\"displacy-token\" fill=\"currentColor\" text-anchor=\"middle\" y=\"222.0\">\n",
       "    <tspan class=\"displacy-word\" fill=\"currentColor\" x=\"200\">their</tspan>\n",
       "    <tspan class=\"displacy-tag\" dy=\"2em\" fill=\"currentColor\" x=\"200\">DET</tspan>\n",
       "</text>\n",
       "\n",
       "<text class=\"displacy-token\" fill=\"currentColor\" text-anchor=\"middle\" y=\"222.0\">\n",
       "    <tspan class=\"displacy-word\" fill=\"currentColor\" x=\"250\">Mother</tspan>\n",
       "    <tspan class=\"displacy-tag\" dy=\"2em\" fill=\"currentColor\" x=\"250\">PROPN</tspan>\n",
       "</text>\n",
       "\n",
       "<text class=\"displacy-token\" fill=\"currentColor\" text-anchor=\"middle\" y=\"222.0\">\n",
       "    <tspan class=\"displacy-word\" fill=\"currentColor\" x=\"300\">in</tspan>\n",
       "    <tspan class=\"displacy-tag\" dy=\"2em\" fill=\"currentColor\" x=\"300\">ADP</tspan>\n",
       "</text>\n",
       "\n",
       "<text class=\"displacy-token\" fill=\"currentColor\" text-anchor=\"middle\" y=\"222.0\">\n",
       "    <tspan class=\"displacy-word\" fill=\"currentColor\" x=\"350\">a</tspan>\n",
       "    <tspan class=\"displacy-tag\" dy=\"2em\" fill=\"currentColor\" x=\"350\">DET</tspan>\n",
       "</text>\n",
       "\n",
       "<text class=\"displacy-token\" fill=\"currentColor\" text-anchor=\"middle\" y=\"222.0\">\n",
       "    <tspan class=\"displacy-word\" fill=\"currentColor\" x=\"400\">sand-</tspan>\n",
       "    <tspan class=\"displacy-tag\" dy=\"2em\" fill=\"currentColor\" x=\"400\">NOUN</tspan>\n",
       "</text>\n",
       "\n",
       "<text class=\"displacy-token\" fill=\"currentColor\" text-anchor=\"middle\" y=\"222.0\">\n",
       "    <tspan class=\"displacy-word\" fill=\"currentColor\" x=\"450\">bank,</tspan>\n",
       "    <tspan class=\"displacy-tag\" dy=\"2em\" fill=\"currentColor\" x=\"450\">NOUN</tspan>\n",
       "</text>\n",
       "\n",
       "<text class=\"displacy-token\" fill=\"currentColor\" text-anchor=\"middle\" y=\"222.0\">\n",
       "    <tspan class=\"displacy-word\" fill=\"currentColor\" x=\"500\">underneath</tspan>\n",
       "    <tspan class=\"displacy-tag\" dy=\"2em\" fill=\"currentColor\" x=\"500\">ADP</tspan>\n",
       "</text>\n",
       "\n",
       "<text class=\"displacy-token\" fill=\"currentColor\" text-anchor=\"middle\" y=\"222.0\">\n",
       "    <tspan class=\"displacy-word\" fill=\"currentColor\" x=\"550\">the</tspan>\n",
       "    <tspan class=\"displacy-tag\" dy=\"2em\" fill=\"currentColor\" x=\"550\">DET</tspan>\n",
       "</text>\n",
       "\n",
       "<text class=\"displacy-token\" fill=\"currentColor\" text-anchor=\"middle\" y=\"222.0\">\n",
       "    <tspan class=\"displacy-word\" fill=\"currentColor\" x=\"600\">root</tspan>\n",
       "    <tspan class=\"displacy-tag\" dy=\"2em\" fill=\"currentColor\" x=\"600\">NOUN</tspan>\n",
       "</text>\n",
       "\n",
       "<text class=\"displacy-token\" fill=\"currentColor\" text-anchor=\"middle\" y=\"222.0\">\n",
       "    <tspan class=\"displacy-word\" fill=\"currentColor\" x=\"650\">of</tspan>\n",
       "    <tspan class=\"displacy-tag\" dy=\"2em\" fill=\"currentColor\" x=\"650\">ADP</tspan>\n",
       "</text>\n",
       "\n",
       "<text class=\"displacy-token\" fill=\"currentColor\" text-anchor=\"middle\" y=\"222.0\">\n",
       "    <tspan class=\"displacy-word\" fill=\"currentColor\" x=\"700\">a</tspan>\n",
       "    <tspan class=\"displacy-tag\" dy=\"2em\" fill=\"currentColor\" x=\"700\">DET</tspan>\n",
       "</text>\n",
       "\n",
       "<text class=\"displacy-token\" fill=\"currentColor\" text-anchor=\"middle\" y=\"222.0\">\n",
       "    <tspan class=\"displacy-word\" fill=\"currentColor\" x=\"750\">\n",
       "</tspan>\n",
       "    <tspan class=\"displacy-tag\" dy=\"2em\" fill=\"currentColor\" x=\"750\">SPACE</tspan>\n",
       "</text>\n",
       "\n",
       "<text class=\"displacy-token\" fill=\"currentColor\" text-anchor=\"middle\" y=\"222.0\">\n",
       "    <tspan class=\"displacy-word\" fill=\"currentColor\" x=\"800\">very</tspan>\n",
       "    <tspan class=\"displacy-tag\" dy=\"2em\" fill=\"currentColor\" x=\"800\">ADV</tspan>\n",
       "</text>\n",
       "\n",
       "<text class=\"displacy-token\" fill=\"currentColor\" text-anchor=\"middle\" y=\"222.0\">\n",
       "    <tspan class=\"displacy-word\" fill=\"currentColor\" x=\"850\">big</tspan>\n",
       "    <tspan class=\"displacy-tag\" dy=\"2em\" fill=\"currentColor\" x=\"850\">ADJ</tspan>\n",
       "</text>\n",
       "\n",
       "<text class=\"displacy-token\" fill=\"currentColor\" text-anchor=\"middle\" y=\"222.0\">\n",
       "    <tspan class=\"displacy-word\" fill=\"currentColor\" x=\"900\">fir-</tspan>\n",
       "    <tspan class=\"displacy-tag\" dy=\"2em\" fill=\"currentColor\" x=\"900\">NOUN</tspan>\n",
       "</text>\n",
       "\n",
       "<text class=\"displacy-token\" fill=\"currentColor\" text-anchor=\"middle\" y=\"222.0\">\n",
       "    <tspan class=\"displacy-word\" fill=\"currentColor\" x=\"950\">tree.</tspan>\n",
       "    <tspan class=\"displacy-tag\" dy=\"2em\" fill=\"currentColor\" x=\"950\">NOUN</tspan>\n",
       "</text>\n",
       "\n",
       "<text class=\"displacy-token\" fill=\"currentColor\" text-anchor=\"middle\" y=\"222.0\">\n",
       "    <tspan class=\"displacy-word\" fill=\"currentColor\" x=\"1000\">\n",
       "\n",
       "</tspan>\n",
       "    <tspan class=\"displacy-tag\" dy=\"2em\" fill=\"currentColor\" x=\"1000\">SPACE</tspan>\n",
       "</text>\n",
       "\n",
       "<g class=\"displacy-arrow\">\n",
       "    <path class=\"displacy-arc\" id=\"arrow-a42813957b784fd2a31425d67dd7e980-0-0\" stroke-width=\"2px\" d=\"M70,177.0 C70,152.0 70.0,152.0 70.0,177.0\" fill=\"none\" stroke=\"currentColor\"/>\n",
       "    <text dy=\"1.25em\" style=\"font-size: 0.8em; letter-spacing: 1px\">\n",
       "        <textPath xlink:href=\"#arrow-a42813957b784fd2a31425d67dd7e980-0-0\" class=\"displacy-label\" startOffset=\"50%\" side=\"left\" fill=\"currentColor\" text-anchor=\"middle\">nsubj</textPath>\n",
       "    </text>\n",
       "    <path class=\"displacy-arrowhead\" d=\"M70,179.0 L62,167.0 78,167.0\" fill=\"currentColor\"/>\n",
       "</g>\n",
       "\n",
       "<g class=\"displacy-arrow\">\n",
       "    <path class=\"displacy-arc\" id=\"arrow-a42813957b784fd2a31425d67dd7e980-0-1\" stroke-width=\"2px\" d=\"M120,177.0 C120,152.0 120.0,152.0 120.0,177.0\" fill=\"none\" stroke=\"currentColor\"/>\n",
       "    <text dy=\"1.25em\" style=\"font-size: 0.8em; letter-spacing: 1px\">\n",
       "        <textPath xlink:href=\"#arrow-a42813957b784fd2a31425d67dd7e980-0-1\" class=\"displacy-label\" startOffset=\"50%\" side=\"left\" fill=\"currentColor\" text-anchor=\"middle\">prep</textPath>\n",
       "    </text>\n",
       "    <path class=\"displacy-arrowhead\" d=\"M120.0,179.0 L128.0,167.0 112.0,167.0\" fill=\"currentColor\"/>\n",
       "</g>\n",
       "\n",
       "<g class=\"displacy-arrow\">\n",
       "    <path class=\"displacy-arc\" id=\"arrow-a42813957b784fd2a31425d67dd7e980-0-2\" stroke-width=\"2px\" d=\"M220,177.0 C220,152.0 220.0,152.0 220.0,177.0\" fill=\"none\" stroke=\"currentColor\"/>\n",
       "    <text dy=\"1.25em\" style=\"font-size: 0.8em; letter-spacing: 1px\">\n",
       "        <textPath xlink:href=\"#arrow-a42813957b784fd2a31425d67dd7e980-0-2\" class=\"displacy-label\" startOffset=\"50%\" side=\"left\" fill=\"currentColor\" text-anchor=\"middle\">poss</textPath>\n",
       "    </text>\n",
       "    <path class=\"displacy-arrowhead\" d=\"M220,179.0 L212,167.0 228,167.0\" fill=\"currentColor\"/>\n",
       "</g>\n",
       "\n",
       "<g class=\"displacy-arrow\">\n",
       "    <path class=\"displacy-arc\" id=\"arrow-a42813957b784fd2a31425d67dd7e980-0-3\" stroke-width=\"2px\" d=\"M170,177.0 C170,127.0 225.0,127.0 225.0,177.0\" fill=\"none\" stroke=\"currentColor\"/>\n",
       "    <text dy=\"1.25em\" style=\"font-size: 0.8em; letter-spacing: 1px\">\n",
       "        <textPath xlink:href=\"#arrow-a42813957b784fd2a31425d67dd7e980-0-3\" class=\"displacy-label\" startOffset=\"50%\" side=\"left\" fill=\"currentColor\" text-anchor=\"middle\">pobj</textPath>\n",
       "    </text>\n",
       "    <path class=\"displacy-arrowhead\" d=\"M225.0,179.0 L233.0,167.0 217.0,167.0\" fill=\"currentColor\"/>\n",
       "</g>\n",
       "\n",
       "<g class=\"displacy-arrow\">\n",
       "    <path class=\"displacy-arc\" id=\"arrow-a42813957b784fd2a31425d67dd7e980-0-4\" stroke-width=\"2px\" d=\"M120,177.0 C120,77.0 285.0,77.0 285.0,177.0\" fill=\"none\" stroke=\"currentColor\"/>\n",
       "    <text dy=\"1.25em\" style=\"font-size: 0.8em; letter-spacing: 1px\">\n",
       "        <textPath xlink:href=\"#arrow-a42813957b784fd2a31425d67dd7e980-0-4\" class=\"displacy-label\" startOffset=\"50%\" side=\"left\" fill=\"currentColor\" text-anchor=\"middle\">prep</textPath>\n",
       "    </text>\n",
       "    <path class=\"displacy-arrowhead\" d=\"M285.0,179.0 L293.0,167.0 277.0,167.0\" fill=\"currentColor\"/>\n",
       "</g>\n",
       "\n",
       "<g class=\"displacy-arrow\">\n",
       "    <path class=\"displacy-arc\" id=\"arrow-a42813957b784fd2a31425d67dd7e980-0-5\" stroke-width=\"2px\" d=\"M370,177.0 C370,127.0 425.0,127.0 425.0,177.0\" fill=\"none\" stroke=\"currentColor\"/>\n",
       "    <text dy=\"1.25em\" style=\"font-size: 0.8em; letter-spacing: 1px\">\n",
       "        <textPath xlink:href=\"#arrow-a42813957b784fd2a31425d67dd7e980-0-5\" class=\"displacy-label\" startOffset=\"50%\" side=\"left\" fill=\"currentColor\" text-anchor=\"middle\">det</textPath>\n",
       "    </text>\n",
       "    <path class=\"displacy-arrowhead\" d=\"M370,179.0 L362,167.0 378,167.0\" fill=\"currentColor\"/>\n",
       "</g>\n",
       "\n",
       "<g class=\"displacy-arrow\">\n",
       "    <path class=\"displacy-arc\" id=\"arrow-a42813957b784fd2a31425d67dd7e980-0-6\" stroke-width=\"2px\" d=\"M420,177.0 C420,152.0 420.0,152.0 420.0,177.0\" fill=\"none\" stroke=\"currentColor\"/>\n",
       "    <text dy=\"1.25em\" style=\"font-size: 0.8em; letter-spacing: 1px\">\n",
       "        <textPath xlink:href=\"#arrow-a42813957b784fd2a31425d67dd7e980-0-6\" class=\"displacy-label\" startOffset=\"50%\" side=\"left\" fill=\"currentColor\" text-anchor=\"middle\">compound</textPath>\n",
       "    </text>\n",
       "    <path class=\"displacy-arrowhead\" d=\"M420,179.0 L412,167.0 428,167.0\" fill=\"currentColor\"/>\n",
       "</g>\n",
       "\n",
       "<g class=\"displacy-arrow\">\n",
       "    <path class=\"displacy-arc\" id=\"arrow-a42813957b784fd2a31425d67dd7e980-0-7\" stroke-width=\"2px\" d=\"M320,177.0 C320,102.0 430.0,102.0 430.0,177.0\" fill=\"none\" stroke=\"currentColor\"/>\n",
       "    <text dy=\"1.25em\" style=\"font-size: 0.8em; letter-spacing: 1px\">\n",
       "        <textPath xlink:href=\"#arrow-a42813957b784fd2a31425d67dd7e980-0-7\" class=\"displacy-label\" startOffset=\"50%\" side=\"left\" fill=\"currentColor\" text-anchor=\"middle\">pobj</textPath>\n",
       "    </text>\n",
       "    <path class=\"displacy-arrowhead\" d=\"M430.0,179.0 L438.0,167.0 422.0,167.0\" fill=\"currentColor\"/>\n",
       "</g>\n",
       "\n",
       "<g class=\"displacy-arrow\">\n",
       "    <path class=\"displacy-arc\" id=\"arrow-a42813957b784fd2a31425d67dd7e980-0-8\" stroke-width=\"2px\" d=\"M120,177.0 C120,27.0 495.0,27.0 495.0,177.0\" fill=\"none\" stroke=\"currentColor\"/>\n",
       "    <text dy=\"1.25em\" style=\"font-size: 0.8em; letter-spacing: 1px\">\n",
       "        <textPath xlink:href=\"#arrow-a42813957b784fd2a31425d67dd7e980-0-8\" class=\"displacy-label\" startOffset=\"50%\" side=\"left\" fill=\"currentColor\" text-anchor=\"middle\">prep</textPath>\n",
       "    </text>\n",
       "    <path class=\"displacy-arrowhead\" d=\"M495.0,179.0 L503.0,167.0 487.0,167.0\" fill=\"currentColor\"/>\n",
       "</g>\n",
       "\n",
       "<g class=\"displacy-arrow\">\n",
       "    <path class=\"displacy-arc\" id=\"arrow-a42813957b784fd2a31425d67dd7e980-0-9\" stroke-width=\"2px\" d=\"M570,177.0 C570,152.0 570.0,152.0 570.0,177.0\" fill=\"none\" stroke=\"currentColor\"/>\n",
       "    <text dy=\"1.25em\" style=\"font-size: 0.8em; letter-spacing: 1px\">\n",
       "        <textPath xlink:href=\"#arrow-a42813957b784fd2a31425d67dd7e980-0-9\" class=\"displacy-label\" startOffset=\"50%\" side=\"left\" fill=\"currentColor\" text-anchor=\"middle\">det</textPath>\n",
       "    </text>\n",
       "    <path class=\"displacy-arrowhead\" d=\"M570,179.0 L562,167.0 578,167.0\" fill=\"currentColor\"/>\n",
       "</g>\n",
       "\n",
       "<g class=\"displacy-arrow\">\n",
       "    <path class=\"displacy-arc\" id=\"arrow-a42813957b784fd2a31425d67dd7e980-0-10\" stroke-width=\"2px\" d=\"M520,177.0 C520,127.0 575.0,127.0 575.0,177.0\" fill=\"none\" stroke=\"currentColor\"/>\n",
       "    <text dy=\"1.25em\" style=\"font-size: 0.8em; letter-spacing: 1px\">\n",
       "        <textPath xlink:href=\"#arrow-a42813957b784fd2a31425d67dd7e980-0-10\" class=\"displacy-label\" startOffset=\"50%\" side=\"left\" fill=\"currentColor\" text-anchor=\"middle\">pobj</textPath>\n",
       "    </text>\n",
       "    <path class=\"displacy-arrowhead\" d=\"M575.0,179.0 L583.0,167.0 567.0,167.0\" fill=\"currentColor\"/>\n",
       "</g>\n",
       "\n",
       "<g class=\"displacy-arrow\">\n",
       "    <path class=\"displacy-arc\" id=\"arrow-a42813957b784fd2a31425d67dd7e980-0-11\" stroke-width=\"2px\" d=\"M620,177.0 C620,152.0 620.0,152.0 620.0,177.0\" fill=\"none\" stroke=\"currentColor\"/>\n",
       "    <text dy=\"1.25em\" style=\"font-size: 0.8em; letter-spacing: 1px\">\n",
       "        <textPath xlink:href=\"#arrow-a42813957b784fd2a31425d67dd7e980-0-11\" class=\"displacy-label\" startOffset=\"50%\" side=\"left\" fill=\"currentColor\" text-anchor=\"middle\">prep</textPath>\n",
       "    </text>\n",
       "    <path class=\"displacy-arrowhead\" d=\"M620.0,179.0 L628.0,167.0 612.0,167.0\" fill=\"currentColor\"/>\n",
       "</g>\n",
       "\n",
       "<g class=\"displacy-arrow\">\n",
       "    <path class=\"displacy-arc\" id=\"arrow-a42813957b784fd2a31425d67dd7e980-0-12\" stroke-width=\"2px\" d=\"M720,177.0 C720,52.0 940.0,52.0 940.0,177.0\" fill=\"none\" stroke=\"currentColor\"/>\n",
       "    <text dy=\"1.25em\" style=\"font-size: 0.8em; letter-spacing: 1px\">\n",
       "        <textPath xlink:href=\"#arrow-a42813957b784fd2a31425d67dd7e980-0-12\" class=\"displacy-label\" startOffset=\"50%\" side=\"left\" fill=\"currentColor\" text-anchor=\"middle\">det</textPath>\n",
       "    </text>\n",
       "    <path class=\"displacy-arrowhead\" d=\"M720,179.0 L712,167.0 728,167.0\" fill=\"currentColor\"/>\n",
       "</g>\n",
       "\n",
       "<g class=\"displacy-arrow\">\n",
       "    <path class=\"displacy-arc\" id=\"arrow-a42813957b784fd2a31425d67dd7e980-0-13\" stroke-width=\"2px\" d=\"M720,177.0 C720,152.0 720.0,152.0 720.0,177.0\" fill=\"none\" stroke=\"currentColor\"/>\n",
       "    <text dy=\"1.25em\" style=\"font-size: 0.8em; letter-spacing: 1px\">\n",
       "        <textPath xlink:href=\"#arrow-a42813957b784fd2a31425d67dd7e980-0-13\" class=\"displacy-label\" startOffset=\"50%\" side=\"left\" fill=\"currentColor\" text-anchor=\"middle\"></textPath>\n",
       "    </text>\n",
       "    <path class=\"displacy-arrowhead\" d=\"M720.0,179.0 L728.0,167.0 712.0,167.0\" fill=\"currentColor\"/>\n",
       "</g>\n",
       "\n",
       "<g class=\"displacy-arrow\">\n",
       "    <path class=\"displacy-arc\" id=\"arrow-a42813957b784fd2a31425d67dd7e980-0-14\" stroke-width=\"2px\" d=\"M820,177.0 C820,152.0 820.0,152.0 820.0,177.0\" fill=\"none\" stroke=\"currentColor\"/>\n",
       "    <text dy=\"1.25em\" style=\"font-size: 0.8em; letter-spacing: 1px\">\n",
       "        <textPath xlink:href=\"#arrow-a42813957b784fd2a31425d67dd7e980-0-14\" class=\"displacy-label\" startOffset=\"50%\" side=\"left\" fill=\"currentColor\" text-anchor=\"middle\">advmod</textPath>\n",
       "    </text>\n",
       "    <path class=\"displacy-arrowhead\" d=\"M820,179.0 L812,167.0 828,167.0\" fill=\"currentColor\"/>\n",
       "</g>\n",
       "\n",
       "<g class=\"displacy-arrow\">\n",
       "    <path class=\"displacy-arc\" id=\"arrow-a42813957b784fd2a31425d67dd7e980-0-15\" stroke-width=\"2px\" d=\"M870,177.0 C870,127.0 925.0,127.0 925.0,177.0\" fill=\"none\" stroke=\"currentColor\"/>\n",
       "    <text dy=\"1.25em\" style=\"font-size: 0.8em; letter-spacing: 1px\">\n",
       "        <textPath xlink:href=\"#arrow-a42813957b784fd2a31425d67dd7e980-0-15\" class=\"displacy-label\" startOffset=\"50%\" side=\"left\" fill=\"currentColor\" text-anchor=\"middle\">amod</textPath>\n",
       "    </text>\n",
       "    <path class=\"displacy-arrowhead\" d=\"M870,179.0 L862,167.0 878,167.0\" fill=\"currentColor\"/>\n",
       "</g>\n",
       "\n",
       "<g class=\"displacy-arrow\">\n",
       "    <path class=\"displacy-arc\" id=\"arrow-a42813957b784fd2a31425d67dd7e980-0-16\" stroke-width=\"2px\" d=\"M920,177.0 C920,152.0 920.0,152.0 920.0,177.0\" fill=\"none\" stroke=\"currentColor\"/>\n",
       "    <text dy=\"1.25em\" style=\"font-size: 0.8em; letter-spacing: 1px\">\n",
       "        <textPath xlink:href=\"#arrow-a42813957b784fd2a31425d67dd7e980-0-16\" class=\"displacy-label\" startOffset=\"50%\" side=\"left\" fill=\"currentColor\" text-anchor=\"middle\">compound</textPath>\n",
       "    </text>\n",
       "    <path class=\"displacy-arrowhead\" d=\"M920,179.0 L912,167.0 928,167.0\" fill=\"currentColor\"/>\n",
       "</g>\n",
       "\n",
       "<g class=\"displacy-arrow\">\n",
       "    <path class=\"displacy-arc\" id=\"arrow-a42813957b784fd2a31425d67dd7e980-0-17\" stroke-width=\"2px\" d=\"M120,177.0 C120,2.0 950.0,2.0 950.0,177.0\" fill=\"none\" stroke=\"currentColor\"/>\n",
       "    <text dy=\"1.25em\" style=\"font-size: 0.8em; letter-spacing: 1px\">\n",
       "        <textPath xlink:href=\"#arrow-a42813957b784fd2a31425d67dd7e980-0-17\" class=\"displacy-label\" startOffset=\"50%\" side=\"left\" fill=\"currentColor\" text-anchor=\"middle\">punct</textPath>\n",
       "    </text>\n",
       "    <path class=\"displacy-arrowhead\" d=\"M950.0,179.0 L958.0,167.0 942.0,167.0\" fill=\"currentColor\"/>\n",
       "</g>\n",
       "\n",
       "<g class=\"displacy-arrow\">\n",
       "    <path class=\"displacy-arc\" id=\"arrow-a42813957b784fd2a31425d67dd7e980-0-18\" stroke-width=\"2px\" d=\"M970,177.0 C970,152.0 970.0,152.0 970.0,177.0\" fill=\"none\" stroke=\"currentColor\"/>\n",
       "    <text dy=\"1.25em\" style=\"font-size: 0.8em; letter-spacing: 1px\">\n",
       "        <textPath xlink:href=\"#arrow-a42813957b784fd2a31425d67dd7e980-0-18\" class=\"displacy-label\" startOffset=\"50%\" side=\"left\" fill=\"currentColor\" text-anchor=\"middle\"></textPath>\n",
       "    </text>\n",
       "    <path class=\"displacy-arrowhead\" d=\"M970.0,179.0 L978.0,167.0 962.0,167.0\" fill=\"currentColor\"/>\n",
       "</g>\n",
       "</svg></span>"
      ],
      "text/plain": [
       "<IPython.core.display.HTML object>"
      ]
     },
     "metadata": {},
     "output_type": "display_data"
    }
   ],
   "source": [
    "displacy.render(list(doc.sents)[2], style='dep', jupyter=True, options={'distance': 50})"
   ]
  },
  {
   "cell_type": "markdown",
   "metadata": {},
   "source": [
    "**6. Show the first two named entities from Beatrix Potter's *The Tale of Peter Rabbit* **"
   ]
  },
  {
   "cell_type": "code",
   "execution_count": 27,
   "metadata": {},
   "outputs": [
    {
     "name": "stdout",
     "output_type": "stream",
     "text": [
      "Peter Rabbit         PERSON                         People, including fictional\n",
      "Beatrix Potter       PERSON                         People, including fictional\n",
      "1902                 DATE                           Absolute or relative dates or periods\n",
      "four                 CARDINAL                       Numerals that do not fall under another type\n",
      "Mopsy                ORG                            Companies, agencies, institutions, etc.\n",
      "Peter                PERSON                         People, including fictional\n",
      "Rabbit               PERSON                         People, including fictional\n",
      "one morning          TIME                           Times smaller than a day\n",
      "McGregor             PERSON                         People, including fictional\n",
      "Rabbit               PERSON                         People, including fictional\n"
     ]
    }
   ],
   "source": [
    "for ent in doc.ents[:10]:\n",
    "    print(f'{ent.text:{20}} {ent.label_:{30}} {spacy.explain(ent.label_)}')"
   ]
  },
  {
   "cell_type": "markdown",
   "metadata": {},
   "source": [
    "**7. How many sentences are contained in *The Tale of Peter Rabbit*?**"
   ]
  },
  {
   "cell_type": "code",
   "execution_count": 28,
   "metadata": {},
   "outputs": [
    {
     "data": {
      "text/plain": [
       "62"
      ]
     },
     "execution_count": 28,
     "metadata": {},
     "output_type": "execute_result"
    }
   ],
   "source": [
    "len([sent for sent in doc.sents])"
   ]
  },
  {
   "cell_type": "markdown",
   "metadata": {},
   "source": [
    "**8. CHALLENGE: How many sentences contain named entities?**"
   ]
  },
  {
   "cell_type": "code",
   "execution_count": 34,
   "metadata": {},
   "outputs": [],
   "source": [
    "a = [sent for sent in doc.sents if (len(sent.ents) != 0)]"
   ]
  },
  {
   "cell_type": "markdown",
   "metadata": {},
   "source": [
    "**9. CHALLENGE: Display the named entity visualization for `list_of_sents[0]` from the previous problem**"
   ]
  },
  {
   "cell_type": "code",
   "execution_count": 56,
   "metadata": {},
   "outputs": [
    {
     "data": {
      "text/html": [
       "<span class=\"tex2jax_ignore\"><div class=\"entities\" style=\"line-height: 2.5; direction: ltr\">The Tale of \n",
       "<mark class=\"entity\" style=\"background: #aa9cfc; padding: 0.45em 0.6em; margin: 0 0.25em; line-height: 1; border-radius: 0.35em;\">\n",
       "    Peter Rabbit\n",
       "    <span style=\"font-size: 0.8em; font-weight: bold; line-height: 1; border-radius: 0.35em; text-transform: uppercase; vertical-align: middle; margin-left: 0.5rem\">PERSON</span>\n",
       "</mark>\n",
       ", by \n",
       "<mark class=\"entity\" style=\"background: #aa9cfc; padding: 0.45em 0.6em; margin: 0 0.25em; line-height: 1; border-radius: 0.35em;\">\n",
       "    Beatrix Potter\n",
       "    <span style=\"font-size: 0.8em; font-weight: bold; line-height: 1; border-radius: 0.35em; text-transform: uppercase; vertical-align: middle; margin-left: 0.5rem\">PERSON</span>\n",
       "</mark>\n",
       " (\n",
       "<mark class=\"entity\" style=\"background: #bfe1d9; padding: 0.45em 0.6em; margin: 0 0.25em; line-height: 1; border-radius: 0.35em;\">\n",
       "    1902\n",
       "    <span style=\"font-size: 0.8em; font-weight: bold; line-height: 1; border-radius: 0.35em; text-transform: uppercase; vertical-align: middle; margin-left: 0.5rem\">DATE</span>\n",
       "</mark>\n",
       ").</br></br></div></span>"
      ],
      "text/plain": [
       "<IPython.core.display.HTML object>"
      ]
     },
     "metadata": {},
     "output_type": "display_data"
    }
   ],
   "source": [
    "displacy.render(list_of_sents[0], style='ent', jupyter=True)"
   ]
  },
  {
   "cell_type": "markdown",
   "metadata": {},
   "source": [
    "### Great Job!"
   ]
  }
 ],
 "metadata": {
  "kernelspec": {
   "display_name": "Python 3",
   "language": "python",
   "name": "python3"
  },
  "language_info": {
   "codemirror_mode": {
    "name": "ipython",
    "version": 3
   },
   "file_extension": ".py",
   "mimetype": "text/x-python",
   "name": "python",
   "nbconvert_exporter": "python",
   "pygments_lexer": "ipython3",
   "version": "3.7.4"
  }
 },
 "nbformat": 4,
 "nbformat_minor": 2
}
